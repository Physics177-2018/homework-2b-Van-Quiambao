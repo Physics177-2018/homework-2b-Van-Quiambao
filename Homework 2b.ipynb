{
 "cells": [
  {
   "cell_type": "markdown",
   "metadata": {},
   "source": [
    "# Homework 2b: Integration\n",
    "Physics 177, Spring 2018\n",
    "**Due:** Tuesday, April 17 (Note: there will be no class on Tuesday April 17)\n",
    "\n",
    "*Van Quiambao*"
   ]
  },
  {
   "cell_type": "markdown",
   "metadata": {},
   "source": [
    "## 1. The Green Problem\n",
    "\n",
    "In class we considered a puzzle where numerical integration failed to give reasonable solutions in reasonable time. In this problem we'll build a quick Riemann sum integrator to explore the puzzle.\n",
    "\n",
    "The basic form of the problem is as follows. You want to integrate a curious expression:\n",
    "$$\\int_0^{100} dx \\; \\left[f_1(x) - f_2(x)\\right]\\;\\Theta\\left(f_1(x) - f_2(x)\\right)$$\n",
    "\n",
    "Where $\\Theta$ is the Heaviside step function. It is defined to be\n",
    "$$\\Theta(y) = \\left\\{ \n",
    "    \\begin{array}{ll}\n",
    "    1 & \\text{if } y \\geq 0 \\\\\n",
    "    0 & \\text{otherwise}\n",
    "    \\end{array} \n",
    "\\right. \\ .$$\n",
    "\n",
    "The functions $f_1(x)$ and $f_2(x)$ take the following form:\n",
    "$$\n",
    "\\begin{align}\n",
    "f_1(x) &= (\\text{small})\\, x^2 + (\\text{small}) \\\\\n",
    "f_2(x) &= (\\text{big})\\, x^2\n",
    "\\end{align}\n",
    "$$\n",
    "\n",
    "'Small' and 'big' refer to positive numbers.   In the rest of this problem, fill in the rest of the Jupyter notebook as requested"
   ]
  },
  {
   "cell_type": "markdown",
   "metadata": {},
   "source": [
    "### 1.a) Defining the step function\n",
    "\n",
    "Define a function `theta_function(x)` that uses `if` and `else` to return $\\Theta(x)$. Fill in the cell below and run the following cell to test the function. If you need a refresher on `if` statements, check out the [Python 3 tutorial on control flow](https://docs.python.org/3/tutorial/controlflow.html).\n",
    "\n",
    "**Fun fact**: the [Heaviside step function](https://en.wikipedia.org/wiki/Heaviside_step_function) is named after a real person, Oliver Heaviside. For a long time I thought it was named because it looks like a flat function that got \"heavy on one side.\""
   ]
  },
  {
   "cell_type": "code",
   "execution_count": 18,
   "metadata": {},
   "outputs": [],
   "source": [
    "# Here's some starter code. Fill in the rest.\n",
    "\n",
    "def theta_function(x):\n",
    "    # FILL IN THIS PART\n",
    "    if x >= 0:\n",
    "        return True\n",
    "    \n",
    "    else :\n",
    "        return False \n",
    "    \n",
    "    \n",
    "    "
   ]
  },
  {
   "cell_type": "code",
   "execution_count": 19,
   "metadata": {},
   "outputs": [
    {
     "name": "stdout",
     "output_type": "stream",
     "text": [
      "Your function passes for x>0: True\n",
      "Your function passes for x<0: True\n"
     ]
    }
   ],
   "source": [
    "# Run this cell to test theta_function(x)\n",
    "\n",
    "print(\"Your function passes for x>0: %r\" % (theta_function(3) == 1))\n",
    "\n",
    "print(\"Your function passes for x<0: %r\" % (theta_function(-3.1) == 0))\n",
    "\n",
    "# Remark: the %r notation is called string formatting\n",
    "# for more information, see https://www.learnpython.org/en/String_Formatting\n",
    "# %r specifically refers to a boolean value that is defined after the '%'"
   ]
  },
  {
   "cell_type": "markdown",
   "metadata": {},
   "source": [
    "### 1.b) Define the functions\n",
    "\n",
    "In the cell below, define *global variables* that correspond to the 'small' and 'big numbers'. Then write functions definitions for $f_1$ and $f_2$. To be descriptive, we'll name $f_1$ = `shallow_shifted_parabola` and $f_2$ = `tight_parabola`. Fill in the cell below and run the tests in the next cell.\n",
    "\n",
    "Choose `small_number` and `small_shift` to be 0.01, choose `big_number` to be 100.\n",
    "\n",
    "You may want review chapter 2.2.4 in Newman if you want a refresher on how to write $$x^2$$ in Python. "
   ]
  },
  {
   "cell_type": "code",
   "execution_count": 26,
   "metadata": {},
   "outputs": [],
   "source": [
    "small_number = 0.01 # FILL THIS IN, corresponds to \"(small)\" coefficient in f_1\n",
    "small_shift  = 0.01 # FILL THIS IN, corresponds to \"(small)\" shift in f_1\n",
    "big_number   = 100 # FILL THIS IN, corresponds to \"(big)\" coefficient in f_2\n",
    "\n",
    "def shallow_shifted_parabola(x):\n",
    "    '''This is what we called function f_1'''\n",
    "    # FILL THIS IN\n",
    "    return small_number*x**2 + small_shift\n",
    "\n",
    "def tight_parabola(x):\n",
    "    '''This is what we called function f_2'''\n",
    "    # FILL THIS IN\n",
    "    return big_number*x**2\n",
    "    "
   ]
  },
  {
   "cell_type": "code",
   "execution_count": 27,
   "metadata": {},
   "outputs": [
    {
     "name": "stdout",
     "output_type": "stream",
     "text": [
      "Test for f1(2.0): True\n",
      "Test for f2(4.0): True\n"
     ]
    }
   ],
   "source": [
    "print(\"Test for f1(2.0): %r\" % (shallow_shifted_parabola(2) == 0.05))\n",
    "\n",
    "print(\"Test for f2(4.0): %r\" % (tight_parabola(2) == 400.))"
   ]
  },
  {
   "cell_type": "markdown",
   "metadata": {},
   "source": [
    "### 1.c) Write an integrator\n",
    "\n",
    "Define a function that integrates another function over the range 0 to 100 using Riemann sums of some specified bin width. Fill in the cell below, run the test cell afterward.\n",
    "\n",
    "You may want to refer to the [Lecture 3 notes](https://github.com/Physics177-2018/Lecture_03). "
   ]
  },
  {
   "cell_type": "code",
   "execution_count": 32,
   "metadata": {},
   "outputs": [],
   "source": [
    "def integrate_zero_to_100(function_name, bin_width):\n",
    "    \"\"\"Riemann sum integration of function_name from 0 to 100\"\"\"\n",
    "    # FILL THIS IN\n",
    "    total = 0.0\n",
    "    bin_value = bin_width/2.0\n",
    "    \n",
    "    while bin_value < 100.0:\n",
    "        total = total + function_name(bin_value)*bin_width\n",
    "        bin_value = bin_value + bin_width\n",
    "    return total"
   ]
  },
  {
   "cell_type": "code",
   "execution_count": 33,
   "metadata": {},
   "outputs": [
    {
     "name": "stdout",
     "output_type": "stream",
     "text": [
      "This number should be close to 100: 100.00000000001425\n"
     ]
    }
   ],
   "source": [
    "def test_function(x):\n",
    "    return 1.\n",
    "\n",
    "print(\"This number should be close to 100: %s\" % integrate_zero_to_100(test_function, .01))"
   ]
  },
  {
   "cell_type": "markdown",
   "metadata": {},
   "source": [
    "### 1.d) Integrate our tricky integrand\n",
    "\n",
    "You now have all of the pieces to calculate the tricky integrand,\n",
    "$$\\int_0^{100} dx \\; \\left[f_1(x) - f_2(x)\\right]\\;\\Theta\\left(f_1(x) - f_2(x)\\right)$$\n",
    "\n",
    "Do this for `bin_width` = 0.1. You'll want to start be defining a function, `my_integrand` that you can feed into your integrator. Fill in the following cell, and run the test afterward."
   ]
  },
  {
   "cell_type": "code",
   "execution_count": 42,
   "metadata": {},
   "outputs": [],
   "source": [
    "def my_integrand(x):\n",
    "    \"\"\"[ f1(x)-f2(x) ]*Theta( f1(x)-f2(x) )\"\"\"\n",
    "    # FILL THIS IN\n",
    "    return (shallow_shifted_parabola(x) - tight_parabola(x))*theta_function(shallow_shifted_parabola(x) - tight_parabola(x))"
   ]
  },
  {
   "cell_type": "code",
   "execution_count": 43,
   "metadata": {},
   "outputs": [
    {
     "data": {
      "text/plain": [
       "0.0"
      ]
     },
     "execution_count": 43,
     "metadata": {},
     "output_type": "execute_result"
    }
   ],
   "source": [
    "# Run this\n",
    "integrate_zero_to_100(my_integrand,0.1)\n",
    "\n",
    "# Is this what you expect?"
   ]
  },
  {
   "cell_type": "markdown",
   "metadata": {},
   "source": [
    "### 1.e) Comment on the results\n",
    "\n",
    "Is this what you expect? In your own words, explain what's going on here.\n",
    "\n",
    "I think the answer should still spit out a really small number. I think somehow the python code is ignoring the little area between the two parabolas created within the integrand. We probably need to integrate with a smaller limit. The upper limit of 100 has a lot of zero values with all the reimann sums."
   ]
  },
  {
   "cell_type": "markdown",
   "metadata": {},
   "source": [
    "### 1.x) Extra credit: what is the correct result?\n",
    "\n",
    "Use pencil and paper to perform the integration by hand. This requires a modicum of cleverness. Write a function that gives the value of the integral as a function of the small numbers that define $f_1$ and the big number that defines $f_2$. Test it using the cell below."
   ]
  },
  {
   "cell_type": "code",
   "execution_count": null,
   "metadata": {},
   "outputs": [],
   "source": [
    "def analytic_solution(small_number, small_shift, big_number):\n",
    "    \"\"\"Returns analytic solution to the Green problem\"\"\"\n",
    "    # FILL THIS IN"
   ]
  },
  {
   "cell_type": "code",
   "execution_count": null,
   "metadata": {},
   "outputs": [],
   "source": [
    "print(\"This number should be close to 0.00053336: %s\" % analytic_solution(0.01, 0.04, 100))"
   ]
  },
  {
   "cell_type": "markdown",
   "metadata": {},
   "source": [
    "## 2. Trapezoidal Rule\n",
    "\n",
    "Write an integrator that takes a function and bin width, and returns the integral of that function from 0 to 1 using the trapezoidal rule.\n",
    "\n",
    "You may want to refer to chapter 5.1 of Newman for background, or chapter 3 of the book **Basic concepts in computational physics** by Stickler (we have [free access to this through the library](http://scotty.ucr.edu/record=b5077839~S5), you may need to [VPN](http://cnc.ucr.edu/vpn/) into it if you're off campus)."
   ]
  },
  {
   "cell_type": "code",
   "execution_count": 44,
   "metadata": {},
   "outputs": [],
   "source": [
    "def trapezoidal_integrator(my_function, bin_width):\n",
    "    \"\"\"Integrates from 0 to 1 using trapezoidal rule\"\"\"\n",
    "    # FILL THIS IN\n",
    "    total = 0.0\n",
    "    bin_value = 0.0\n",
    "    \n",
    "    while bin_value < 1:\n",
    "        total = total + 0.5*(my_function(bin_value)+my_function(bin_value+bin_width))*bin_width\n",
    "        bin_value = bin_value + bin_width\n",
    "        \n",
    "    return total"
   ]
  },
  {
   "cell_type": "code",
   "execution_count": 45,
   "metadata": {},
   "outputs": [
    {
     "name": "stdout",
     "output_type": "stream",
     "text": [
      "This should be close to 1/3: 0.33335000000000037\n"
     ]
    }
   ],
   "source": [
    "def my_test_function(x):\n",
    "    return x**2\n",
    "\n",
    "print(\"This should be close to 1/3: %s\" % trapezoidal_integrator(my_test_function,.01))"
   ]
  },
  {
   "cell_type": "markdown",
   "metadata": {},
   "source": [
    "## X.1 Extra credit: Simpson's Rule\n",
    "\n",
    "Using either Newman, Stickler, or whatever resources you find useful, write and integrator that re-does problem 2 but with **Simpson's rules** instead of the trapezoidal rule. Use the same test function and `bin_width` to check the integration. Comment on how good the approximation is."
   ]
  },
  {
   "cell_type": "code",
   "execution_count": 58,
   "metadata": {},
   "outputs": [],
   "source": [
    "# YOUR WORK HERE\n",
    "def simpson_rule_integrator(my_function, bin_width):\n",
    "    total = 0\n",
    "    bin_value = 0\n",
    "    \n",
    "    while bin_value < 1:\n",
    "        total = total + (my_function(bin_value - bin_width) + 4*my_function(bin_value) + my_function(bin_value + bin_width))*bin_width/3\n",
    "        bin_value = bin_value + 2*bin_width\n",
    "        \n",
    "    return total"
   ]
  },
  {
   "cell_type": "code",
   "execution_count": 59,
   "metadata": {},
   "outputs": [
    {
     "name": "stdout",
     "output_type": "stream",
     "text": [
      "This should be close to 1/3: 0.3234333333333337\n"
     ]
    }
   ],
   "source": [
    "def test_function(x):\n",
    "    return x**2\n",
    "\n",
    "print(\"This should be close to 1/3: %s\" % simpson_rule_integrator(my_test_function,.01))"
   ]
  },
  {
   "cell_type": "markdown",
   "metadata": {},
   "source": [
    "Hmm... the simpson rule integrator should be more accurate than the trapezoidal integration but it seems to be less accurate in approximation. My code is probably off by some factor."
   ]
  },
  {
   "cell_type": "markdown",
   "metadata": {},
   "source": [
    "## X.2 Extra credit: reading\n",
    "\n",
    "Read the article \"[The Scientific Paper Is Obsolete](https://www.theatlantic.com/science/archive/2018/04/the-scientific-paper-is-obsolete/556676/),\" by James Somers in *The Atlantic* (April 5, 2018). It describes an ongoing revolution in the way we communicate research to one another. (Physicists have tended to be ahead of the curve for these things.)\n",
    "\n",
    "In your own words, please answer the following:  \n",
    "* What is one reason why some scientists may not want to share their data?\n",
    "* What is the significance of the Jupyter logo?\n",
    "* What is meant by \"the cathedral\" versus \"the bazaar\"?"
   ]
  }
 ],
 "metadata": {
  "kernelspec": {
   "display_name": "Python 3",
   "language": "python",
   "name": "python3"
  },
  "language_info": {
   "codemirror_mode": {
    "name": "ipython",
    "version": 3
   },
   "file_extension": ".py",
   "mimetype": "text/x-python",
   "name": "python",
   "nbconvert_exporter": "python",
   "pygments_lexer": "ipython3",
   "version": "3.6.4"
  }
 },
 "nbformat": 4,
 "nbformat_minor": 2
}
